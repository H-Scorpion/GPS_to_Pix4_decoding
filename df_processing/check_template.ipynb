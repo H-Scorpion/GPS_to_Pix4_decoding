{
 "cells": [
  {
   "cell_type": "code",
   "execution_count": 1,
   "source": [
    "import joblib\r\n",
    "pvt_obj = joblib.load('NAV-PVT_template.pkl')"
   ],
   "outputs": [],
   "metadata": {}
  },
  {
   "cell_type": "code",
   "execution_count": 2,
   "source": [
    "print(pvt_obj)"
   ],
   "outputs": [
    {
     "output_type": "stream",
     "name": "stdout",
     "text": [
      "NAV-PVT:\n",
      "  iTOW=0x0004A8F8\n",
      "  year=0x07DF\n",
      "  month=0x0A\n",
      "  day=0x12\n",
      "  hour=0x00\n",
      "  min=0x05\n",
      "  sec=0x05\n",
      "  valid=0xF0\n",
      "  tAcc=0xFFFFFFFF\n",
      "  nano=0x17D78400\n",
      "  fixType=0x00\n",
      "  flags=0x00\n",
      "  flags2=0x04\n",
      "  numSV=0x00\n",
      "  lon=0x00000000\n",
      "  lat=0x00000000\n",
      "  height=0x00000000\n",
      "  hMSL=0x-0004268\n",
      "  hAcc=0xFFFFFFFF\n",
      "  vAcc=0xE041E800\n",
      "  velN=0x00000000\n",
      "  velE=0x00000000\n",
      "  velD=0x00000000\n",
      "  gSpeed=0x00000000\n",
      "  headMot=0x00000000\n",
      "  sAcc=0x000F4240\n",
      "  headAcc=0x0112A880\n",
      "  pDOP=0x270F\n",
      "  flags3=0x00\n",
      "  reserved1=0x00\n",
      "  reserved1x=0x00234AF8\n",
      "  headVeh=0x00000000\n",
      "  magDec=0x0000\n",
      "  magAcc=0x0000\n"
     ]
    }
   ],
   "metadata": {}
  }
 ],
 "metadata": {
  "orig_nbformat": 4,
  "language_info": {
   "name": "python",
   "version": "3.7.11",
   "mimetype": "text/x-python",
   "codemirror_mode": {
    "name": "ipython",
    "version": 3
   },
   "pygments_lexer": "ipython3",
   "nbconvert_exporter": "python",
   "file_extension": ".py"
  },
  "kernelspec": {
   "name": "python3",
   "display_name": "Python 3.7.11 64-bit (conda)"
  },
  "interpreter": {
   "hash": "dc4ee1b74a6a0ddcc25993096dc99e7a0f3de3eb5b533de3a4cb3a0da3a9408c"
  }
 },
 "nbformat": 4,
 "nbformat_minor": 2
}